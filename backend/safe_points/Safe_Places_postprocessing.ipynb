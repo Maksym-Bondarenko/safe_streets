{
 "cells": [
  {
   "cell_type": "code",
   "execution_count": 7,
   "metadata": {},
   "outputs": [],
   "source": [
    "import pandas as pd\n",
    "from flask import Flask, jsonify, request"
   ]
  },
  {
   "cell_type": "code",
   "execution_count": 2,
   "metadata": {},
   "outputs": [
    {
     "name": "stdout",
     "output_type": "stream",
     "text": [
      "main.py                       Без названия.ipynb\r\n",
      "places_data.csv\r\n"
     ]
    }
   ],
   "source": [
    "!ls"
   ]
  },
  {
   "cell_type": "code",
   "execution_count": 4,
   "metadata": {},
   "outputs": [],
   "source": [
    "df_places = pd.read_csv('places_data.csv')"
   ]
  },
  {
   "cell_type": "code",
   "execution_count": 11,
   "metadata": {},
   "outputs": [
    {
     "data": {
      "text/html": [
       "<div>\n",
       "<style scoped>\n",
       "    .dataframe tbody tr th:only-of-type {\n",
       "        vertical-align: middle;\n",
       "    }\n",
       "\n",
       "    .dataframe tbody tr th {\n",
       "        vertical-align: top;\n",
       "    }\n",
       "\n",
       "    .dataframe thead th {\n",
       "        text-align: right;\n",
       "    }\n",
       "</style>\n",
       "<table border=\"1\" class=\"dataframe\">\n",
       "  <thead>\n",
       "    <tr style=\"text-align: right;\">\n",
       "      <th></th>\n",
       "      <th>type</th>\n",
       "      <th>name</th>\n",
       "      <th>address</th>\n",
       "      <th>business_status</th>\n",
       "      <th>lng</th>\n",
       "      <th>lat</th>\n",
       "    </tr>\n",
       "  </thead>\n",
       "  <tbody>\n",
       "    <tr>\n",
       "      <th>0</th>\n",
       "      <td>hospital</td>\n",
       "      <td>PC-Hospital</td>\n",
       "      <td>Goethestraße 41, 80336 München, Germany</td>\n",
       "      <td>OPERATIONAL</td>\n",
       "      <td>11.558910</td>\n",
       "      <td>48.134237</td>\n",
       "    </tr>\n",
       "    <tr>\n",
       "      <th>1</th>\n",
       "      <td>hospital</td>\n",
       "      <td>Urgence</td>\n",
       "      <td>Prielmayerstraße 3, 80335 München, Germany</td>\n",
       "      <td>OPERATIONAL</td>\n",
       "      <td>11.561969</td>\n",
       "      <td>48.140871</td>\n",
       "    </tr>\n",
       "    <tr>\n",
       "      <th>2</th>\n",
       "      <td>hospital</td>\n",
       "      <td>Klinikum der Universität München</td>\n",
       "      <td>Ziemssenstraße 5, 80336 München, Germany</td>\n",
       "      <td>OPERATIONAL</td>\n",
       "      <td>11.561268</td>\n",
       "      <td>48.132146</td>\n",
       "    </tr>\n",
       "    <tr>\n",
       "      <th>3</th>\n",
       "      <td>hospital</td>\n",
       "      <td>Deutsche Gesellschaft für Klinische Neurophysi...</td>\n",
       "      <td>Theatinerstraße 44, 80333 München, Germany</td>\n",
       "      <td>OPERATIONAL</td>\n",
       "      <td>11.576262</td>\n",
       "      <td>48.139921</td>\n",
       "    </tr>\n",
       "    <tr>\n",
       "      <th>4</th>\n",
       "      <td>hospital</td>\n",
       "      <td>Klinik München</td>\n",
       "      <td>Lindwurmstraße 4, 80337 München, Germany</td>\n",
       "      <td>OPERATIONAL</td>\n",
       "      <td>11.558825</td>\n",
       "      <td>48.130374</td>\n",
       "    </tr>\n",
       "    <tr>\n",
       "      <th>...</th>\n",
       "      <td>...</td>\n",
       "      <td>...</td>\n",
       "      <td>...</td>\n",
       "      <td>...</td>\n",
       "      <td>...</td>\n",
       "      <td>...</td>\n",
       "    </tr>\n",
       "    <tr>\n",
       "      <th>82</th>\n",
       "      <td>police</td>\n",
       "      <td>Autobahnpolizeistation Oberdill</td>\n",
       "      <td>82319 Starnberg, Germany</td>\n",
       "      <td>OPERATIONAL</td>\n",
       "      <td>11.427904</td>\n",
       "      <td>48.029748</td>\n",
       "    </tr>\n",
       "    <tr>\n",
       "      <th>83</th>\n",
       "      <td>police</td>\n",
       "      <td>Polizeiinspektion München - 28 - Ottobrunn</td>\n",
       "      <td>Haidgraben 1B, 85521 Ottobrunn, Germany</td>\n",
       "      <td>OPERATIONAL</td>\n",
       "      <td>11.652621</td>\n",
       "      <td>48.072320</td>\n",
       "    </tr>\n",
       "    <tr>\n",
       "      <th>84</th>\n",
       "      <td>police</td>\n",
       "      <td>Police 47 Milbertshofen</td>\n",
       "      <td>Knorrstraße 139, 80937 München, Germany</td>\n",
       "      <td>OPERATIONAL</td>\n",
       "      <td>11.570237</td>\n",
       "      <td>48.192195</td>\n",
       "    </tr>\n",
       "    <tr>\n",
       "      <th>85</th>\n",
       "      <td>police</td>\n",
       "      <td>Verkehrspolizeiinspektion Hohenbrunn</td>\n",
       "      <td>Putzbrunner Str. 100, 85662 Hohenbrunn, Germany</td>\n",
       "      <td>OPERATIONAL</td>\n",
       "      <td>11.708168</td>\n",
       "      <td>48.059540</td>\n",
       "    </tr>\n",
       "    <tr>\n",
       "      <th>86</th>\n",
       "      <td>police</td>\n",
       "      <td>Polizeiinspektion Germering</td>\n",
       "      <td>Waldstraße 32, 82110 Germering, Germany</td>\n",
       "      <td>OPERATIONAL</td>\n",
       "      <td>11.377394</td>\n",
       "      <td>48.125047</td>\n",
       "    </tr>\n",
       "  </tbody>\n",
       "</table>\n",
       "<p>87 rows × 6 columns</p>\n",
       "</div>"
      ],
      "text/plain": [
       "        type                                               name  \\\n",
       "0   hospital                                        PC-Hospital   \n",
       "1   hospital                                            Urgence   \n",
       "2   hospital                   Klinikum der Universität München   \n",
       "3   hospital  Deutsche Gesellschaft für Klinische Neurophysi...   \n",
       "4   hospital                                     Klinik München   \n",
       "..       ...                                                ...   \n",
       "82    police                    Autobahnpolizeistation Oberdill   \n",
       "83    police         Polizeiinspektion München - 28 - Ottobrunn   \n",
       "84    police                            Police 47 Milbertshofen   \n",
       "85    police               Verkehrspolizeiinspektion Hohenbrunn   \n",
       "86    police                        Polizeiinspektion Germering   \n",
       "\n",
       "                                            address business_status  \\\n",
       "0           Goethestraße 41, 80336 München, Germany     OPERATIONAL   \n",
       "1        Prielmayerstraße 3, 80335 München, Germany     OPERATIONAL   \n",
       "2          Ziemssenstraße 5, 80336 München, Germany     OPERATIONAL   \n",
       "3        Theatinerstraße 44, 80333 München, Germany     OPERATIONAL   \n",
       "4          Lindwurmstraße 4, 80337 München, Germany     OPERATIONAL   \n",
       "..                                              ...             ...   \n",
       "82                         82319 Starnberg, Germany     OPERATIONAL   \n",
       "83          Haidgraben 1B, 85521 Ottobrunn, Germany     OPERATIONAL   \n",
       "84          Knorrstraße 139, 80937 München, Germany     OPERATIONAL   \n",
       "85  Putzbrunner Str. 100, 85662 Hohenbrunn, Germany     OPERATIONAL   \n",
       "86          Waldstraße 32, 82110 Germering, Germany     OPERATIONAL   \n",
       "\n",
       "          lng        lat  \n",
       "0   11.558910  48.134237  \n",
       "1   11.561969  48.140871  \n",
       "2   11.561268  48.132146  \n",
       "3   11.576262  48.139921  \n",
       "4   11.558825  48.130374  \n",
       "..        ...        ...  \n",
       "82  11.427904  48.029748  \n",
       "83  11.652621  48.072320  \n",
       "84  11.570237  48.192195  \n",
       "85  11.708168  48.059540  \n",
       "86  11.377394  48.125047  \n",
       "\n",
       "[87 rows x 6 columns]"
      ]
     },
     "execution_count": 11,
     "metadata": {},
     "output_type": "execute_result"
    }
   ],
   "source": [
    "df_places"
   ]
  },
  {
   "cell_type": "code",
   "execution_count": 17,
   "metadata": {},
   "outputs": [
    {
     "data": {
      "text/plain": [
       "'[{\"type\":\"hospital\",\"name\":\"PC-Hospital\",\"address\":\"Goethestra\\\\u00dfe 41, 80336 M\\\\u00fcnchen, Germany\",\"business_status\":\"OPERATIONAL\",\"lng\":11.55891,\"lat\":48.1342369},{\"type\":\"hospital\",\"name\":\"Urgence\",\"address\":\"Prielmayerstra\\\\u00dfe 3, 80335 M\\\\u00fcnchen, Germany\",\"business_status\":\"OPERATIONAL\",\"lng\":11.5619688,\"lat\":48.140871},{\"type\":\"hospital\",\"name\":\"Klinikum der Universit\\\\u00e4t M\\\\u00fcnchen\",\"address\":\"Ziemssenstra\\\\u00dfe 5, 80336 M\\\\u00fcnchen, Germany\",\"business_status\":\"OPERATIONAL\",\"lng\":11.5612684,\"lat\":48.1321457}]'"
      ]
     },
     "execution_count": 17,
     "metadata": {},
     "output_type": "execute_result"
    }
   ],
   "source": [
    "df_places.iloc[:3].to_json(orient='records')"
   ]
  },
  {
   "cell_type": "code",
   "execution_count": null,
   "metadata": {},
   "outputs": [],
   "source": []
  }
 ],
 "metadata": {
  "kernelspec": {
   "display_name": "Python 3",
   "language": "python",
   "name": "python3"
  },
  "language_info": {
   "codemirror_mode": {
    "name": "ipython",
    "version": 3
   },
   "file_extension": ".py",
   "mimetype": "text/x-python",
   "name": "python",
   "nbconvert_exporter": "python",
   "pygments_lexer": "ipython3",
   "version": "3.7.7"
  }
 },
 "nbformat": 4,
 "nbformat_minor": 4
}
