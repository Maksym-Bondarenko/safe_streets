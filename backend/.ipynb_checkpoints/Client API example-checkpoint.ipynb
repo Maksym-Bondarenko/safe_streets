{
 "cells": [
  {
   "cell_type": "code",
   "execution_count": 1,
   "metadata": {},
   "outputs": [],
   "source": [
    "import requests\n",
    "import json\n",
    "IP_port = \"34.89.222.17:8080\""
   ]
  },
  {
   "cell_type": "markdown",
   "metadata": {},
   "source": [
    "# Add a user"
   ]
  },
  {
   "cell_type": "code",
   "execution_count": 2,
   "metadata": {},
   "outputs": [
    {
     "data": {
      "text/plain": [
       "{'status': 'success'}"
      ]
     },
     "execution_count": 2,
     "metadata": {},
     "output_type": "execute_result"
    }
   ],
   "source": [
    "data = {\n",
    "    \"full_name\": 'Valera',\n",
    "    \"email\": 'kuku@gmail.com',\n",
    "    \"city_id\": None,\n",
    "}\n",
    "\n",
    "\n",
    "response = requests.post(f'http://{IP_port}/add/user', json=data)\n",
    "json.loads(response.text)"
   ]
  },
  {
   "cell_type": "markdown",
   "metadata": {},
   "source": [
    "# Get all users"
   ]
  },
  {
   "cell_type": "code",
   "execution_count": 3,
   "metadata": {},
   "outputs": [
    {
     "data": {
      "text/plain": [
       "[{'city_id': None,\n",
       "  'created_at': 'Sun, 19 Mar 2023 21:48:04 GMT',\n",
       "  'email': 'kek@gmail.com',\n",
       "  'full_name': 'Andrei Chernov',\n",
       "  'id': 3},\n",
       " {'city_id': None,\n",
       "  'created_at': 'Sun, 19 Mar 2023 21:48:21 GMT',\n",
       "  'email': 'kuku@gmail.com',\n",
       "  'full_name': 'Valera',\n",
       "  'id': 4},\n",
       " {'city_id': None,\n",
       "  'created_at': 'Sun, 19 Mar 2023 22:40:18 GMT',\n",
       "  'email': 'kuku@gmail.com',\n",
       "  'full_name': 'Valera',\n",
       "  'id': 8}]"
      ]
     },
     "execution_count": 3,
     "metadata": {},
     "output_type": "execute_result"
    }
   ],
   "source": [
    "json.loads(requests.get(f'http://{IP_port}/get/all_users').text)"
   ]
  },
  {
   "cell_type": "markdown",
   "metadata": {},
   "source": [
    "# Delete a user by id"
   ]
  },
  {
   "cell_type": "code",
   "execution_count": 4,
   "metadata": {},
   "outputs": [
    {
     "data": {
      "text/plain": [
       "{'status': 'success'}"
      ]
     },
     "execution_count": 4,
     "metadata": {},
     "output_type": "execute_result"
    }
   ],
   "source": [
    "response = requests.post(f'http://{IP_port}/delete/user', json={'id':8})\n",
    "json.loads(response.text)"
   ]
  },
  {
   "cell_type": "code",
   "execution_count": 5,
   "metadata": {},
   "outputs": [
    {
     "data": {
      "text/plain": [
       "[{'city_id': None,\n",
       "  'created_at': 'Sun, 19 Mar 2023 21:48:04 GMT',\n",
       "  'email': 'kek@gmail.com',\n",
       "  'full_name': 'Andrei Chernov',\n",
       "  'id': 3},\n",
       " {'city_id': None,\n",
       "  'created_at': 'Sun, 19 Mar 2023 21:48:21 GMT',\n",
       "  'email': 'kuku@gmail.com',\n",
       "  'full_name': 'Valera',\n",
       "  'id': 4}]"
      ]
     },
     "execution_count": 5,
     "metadata": {},
     "output_type": "execute_result"
    }
   ],
   "source": [
    "json.loads(requests.get(f'http://{IP_port}/get/all_users').text)"
   ]
  },
  {
   "cell_type": "markdown",
   "metadata": {},
   "source": [
    "# Add a place"
   ]
  },
  {
   "cell_type": "code",
   "execution_count": 6,
   "metadata": {
    "scrolled": true
   },
   "outputs": [
    {
     "data": {
      "text/plain": [
       "{'status': 'success'}"
      ]
     },
     "execution_count": 6,
     "metadata": {},
     "output_type": "execute_result"
    }
   ],
   "source": [
    "data = {\n",
    "    \"user_id\": 3,\n",
    "    \"title\": 'Student party',\n",
    "    \"type\": 'criminal',\n",
    "    'danger_ranking': 'red',\n",
    "    'comment': 'There are trying to sell drugs',\n",
    "    'lat':100.0,\n",
    "    'long':100.0\n",
    "}\n",
    "\n",
    "\n",
    "response = requests.post(f'http://{IP_port}/add/place', json=data)\n",
    "json.loads(response.text)"
   ]
  },
  {
   "cell_type": "markdown",
   "metadata": {},
   "source": [
    "# Get all places"
   ]
  },
  {
   "cell_type": "code",
   "execution_count": 7,
   "metadata": {},
   "outputs": [
    {
     "data": {
      "text/plain": [
       "[{'comment': 'There are a lot of drung people',\n",
       "  'created_at': 'Sun, 19 Mar 2023 22:05:01 GMT',\n",
       "  'danger_ranking': 'red',\n",
       "  'id': 1,\n",
       "  'lat': '100.000000000000000',\n",
       "  'long': '100.000000000000000',\n",
       "  'title': 'Drunk crowd',\n",
       "  'type': 'criminal',\n",
       "  'user_id': 3},\n",
       " {'comment': 'There are trying to sell drugs',\n",
       "  'created_at': 'Sun, 19 Mar 2023 22:06:12 GMT',\n",
       "  'danger_ranking': 'red',\n",
       "  'id': 2,\n",
       "  'lat': '100.000000000000000',\n",
       "  'long': '100.000000000000000',\n",
       "  'title': 'Student party',\n",
       "  'type': 'criminal',\n",
       "  'user_id': 3},\n",
       " {'comment': 'There are trying to sell drugs',\n",
       "  'created_at': 'Sun, 19 Mar 2023 22:07:51 GMT',\n",
       "  'danger_ranking': 'red',\n",
       "  'id': 3,\n",
       "  'lat': '100.000000000000000',\n",
       "  'long': '100.000000000000000',\n",
       "  'title': 'Student party',\n",
       "  'type': 'criminal',\n",
       "  'user_id': 3},\n",
       " {'comment': 'There are trying to sell drugs',\n",
       "  'created_at': 'Sun, 19 Mar 2023 22:40:18 GMT',\n",
       "  'danger_ranking': 'red',\n",
       "  'id': 5,\n",
       "  'lat': '100.000000000000000',\n",
       "  'long': '100.000000000000000',\n",
       "  'title': 'Student party',\n",
       "  'type': 'criminal',\n",
       "  'user_id': 3}]"
      ]
     },
     "execution_count": 7,
     "metadata": {},
     "output_type": "execute_result"
    }
   ],
   "source": [
    "json.loads(requests.get(f'http://{IP_port}/get/all_places').text)"
   ]
  },
  {
   "cell_type": "markdown",
   "metadata": {},
   "source": [
    "# Delete a place by id"
   ]
  },
  {
   "cell_type": "code",
   "execution_count": 8,
   "metadata": {},
   "outputs": [
    {
     "data": {
      "text/plain": [
       "{'status': 'success'}"
      ]
     },
     "execution_count": 8,
     "metadata": {},
     "output_type": "execute_result"
    }
   ],
   "source": [
    "response = requests.post(f'http://{IP_port}/delete/place', json={'id':5})\n",
    "json.loads(response.text)"
   ]
  },
  {
   "cell_type": "code",
   "execution_count": 10,
   "metadata": {},
   "outputs": [
    {
     "data": {
      "text/plain": [
       "[{'comment': 'There are a lot of drung people',\n",
       "  'created_at': 'Sun, 19 Mar 2023 22:05:01 GMT',\n",
       "  'danger_ranking': 'red',\n",
       "  'id': 1,\n",
       "  'lat': '100.000000000000000',\n",
       "  'long': '100.000000000000000',\n",
       "  'title': 'Drunk crowd',\n",
       "  'type': 'criminal',\n",
       "  'user_id': 3},\n",
       " {'comment': 'There are trying to sell drugs',\n",
       "  'created_at': 'Sun, 19 Mar 2023 22:06:12 GMT',\n",
       "  'danger_ranking': 'red',\n",
       "  'id': 2,\n",
       "  'lat': '100.000000000000000',\n",
       "  'long': '100.000000000000000',\n",
       "  'title': 'Student party',\n",
       "  'type': 'criminal',\n",
       "  'user_id': 3},\n",
       " {'comment': 'There are trying to sell drugs',\n",
       "  'created_at': 'Sun, 19 Mar 2023 22:07:51 GMT',\n",
       "  'danger_ranking': 'red',\n",
       "  'id': 3,\n",
       "  'lat': '100.000000000000000',\n",
       "  'long': '100.000000000000000',\n",
       "  'title': 'Student party',\n",
       "  'type': 'criminal',\n",
       "  'user_id': 3}]"
      ]
     },
     "execution_count": 10,
     "metadata": {},
     "output_type": "execute_result"
    }
   ],
   "source": [
    "json.loads(requests.get(f'http://{IP_port}/get/all_places').text)"
   ]
  }
 ],
 "metadata": {
  "kernelspec": {
   "display_name": "Python 3",
   "language": "python",
   "name": "python3"
  },
  "language_info": {
   "codemirror_mode": {
    "name": "ipython",
    "version": 3
   },
   "file_extension": ".py",
   "mimetype": "text/x-python",
   "name": "python",
   "nbconvert_exporter": "python",
   "pygments_lexer": "ipython3",
   "version": "3.7.7"
  }
 },
 "nbformat": 4,
 "nbformat_minor": 4
}
