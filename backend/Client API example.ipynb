{
 "cells": [
  {
   "cell_type": "code",
   "execution_count": 1,
   "metadata": {},
   "outputs": [],
   "source": [
    "import requests\n",
    "import json\n",
    "# IP_port = \"34.89.222.17:8080\"\n",
    "IP_port = \"localhost:8080\""
   ]
  },
  {
   "cell_type": "markdown",
   "metadata": {},
   "source": [
    "# Add a user"
   ]
  },
  {
   "cell_type": "code",
   "execution_count": 2,
   "metadata": {},
   "outputs": [
    {
     "data": {
      "text/plain": [
       "{'status': 'success'}"
      ]
     },
     "execution_count": 2,
     "metadata": {},
     "output_type": "execute_result"
    }
   ],
   "source": [
    "data = {\n",
    "    \"firebase_id\": \"wtf_xxx_9\",\n",
    "    \"full_name\": 'Valera',\n",
    "    \"email\": 'kuku@gmail.com',\n",
    "}\n",
    "\n",
    "\n",
    "response = requests.post(f'http://{IP_port}/add/user', json=data)\n",
    "json.loads(response.text)"
   ]
  },
  {
   "cell_type": "code",
   "execution_count": 3,
   "metadata": {},
   "outputs": [
    {
     "data": {
      "text/plain": [
       "{'firebase_id': 'wtf_xxx_9', 'full_name': 'Valera', 'email': 'kuku@gmail.com'}"
      ]
     },
     "execution_count": 3,
     "metadata": {},
     "output_type": "execute_result"
    }
   ],
   "source": [
    "data"
   ]
  },
  {
   "cell_type": "markdown",
   "metadata": {},
   "source": [
    "# Get all users"
   ]
  },
  {
   "cell_type": "code",
   "execution_count": 4,
   "metadata": {},
   "outputs": [
    {
     "data": {
      "text/plain": [
       "[{'created_at': 'Tue, 28 Mar 2023 19:19:59 GMT',\n",
       "  'email': 'kuku@gmail.com',\n",
       "  'firebase_id': 'wtf_xxx_7',\n",
       "  'full_name': 'Valera',\n",
       "  'id': 1},\n",
       " {'created_at': 'Tue, 28 Mar 2023 19:20:07 GMT',\n",
       "  'email': 'kuku@gmail.com',\n",
       "  'firebase_id': 'wtf_xxx_8',\n",
       "  'full_name': 'Valera',\n",
       "  'id': 3},\n",
       " {'created_at': 'Tue, 28 Mar 2023 19:23:42 GMT',\n",
       "  'email': 'kuku@gmail.com',\n",
       "  'firebase_id': 'wtf_xxx_9',\n",
       "  'full_name': 'Valera',\n",
       "  'id': 5}]"
      ]
     },
     "execution_count": 4,
     "metadata": {},
     "output_type": "execute_result"
    }
   ],
   "source": [
    "json.loads(requests.get(f'http://{IP_port}/get/all_users').text)"
   ]
  },
  {
   "cell_type": "markdown",
   "metadata": {},
   "source": [
    "# Delete a user by id"
   ]
  },
  {
   "cell_type": "code",
   "execution_count": 5,
   "metadata": {},
   "outputs": [
    {
     "data": {
      "text/plain": [
       "{'status': 'success'}"
      ]
     },
     "execution_count": 5,
     "metadata": {},
     "output_type": "execute_result"
    }
   ],
   "source": [
    "response = requests.post(f'http://{IP_port}/delete/user', json={'id':4})\n",
    "json.loads(response.text)"
   ]
  },
  {
   "cell_type": "code",
   "execution_count": 6,
   "metadata": {},
   "outputs": [
    {
     "data": {
      "text/plain": [
       "[{'created_at': 'Tue, 28 Mar 2023 19:19:59 GMT',\n",
       "  'email': 'kuku@gmail.com',\n",
       "  'firebase_id': 'wtf_xxx_7',\n",
       "  'full_name': 'Valera',\n",
       "  'id': 1},\n",
       " {'created_at': 'Tue, 28 Mar 2023 19:20:07 GMT',\n",
       "  'email': 'kuku@gmail.com',\n",
       "  'firebase_id': 'wtf_xxx_8',\n",
       "  'full_name': 'Valera',\n",
       "  'id': 3},\n",
       " {'created_at': 'Tue, 28 Mar 2023 19:23:42 GMT',\n",
       "  'email': 'kuku@gmail.com',\n",
       "  'firebase_id': 'wtf_xxx_9',\n",
       "  'full_name': 'Valera',\n",
       "  'id': 5}]"
      ]
     },
     "execution_count": 6,
     "metadata": {},
     "output_type": "execute_result"
    }
   ],
   "source": [
    "json.loads(requests.get(f'http://{IP_port}/get/all_users').text)"
   ]
  },
  {
   "cell_type": "markdown",
   "metadata": {},
   "source": [
    "# Add a place"
   ]
  },
  {
   "cell_type": "code",
   "execution_count": 7,
   "metadata": {
    "scrolled": true
   },
   "outputs": [
    {
     "data": {
      "text/plain": [
       "{'status': 'success'}"
      ]
     },
     "execution_count": 7,
     "metadata": {},
     "output_type": "execute_result"
    }
   ],
   "source": [
    "data = {\n",
    "    \"firebase_user_id\": \"wtf_xxx_7\",\n",
    "    \"title\": \"there is a mess\",\n",
    "    \"main_type\": 'Student party',\n",
    "    \"sub_type\": 'criminal',\n",
    "    'comment': 'There are trying to sell drugs',\n",
    "    'lat':100.0,\n",
    "    'long':100.0\n",
    "}\n",
    "\n",
    "\n",
    "response = requests.post(f'http://{IP_port}/add/place', json=data)\n",
    "json.loads(response.text)"
   ]
  },
  {
   "cell_type": "markdown",
   "metadata": {},
   "source": [
    "# Get all places"
   ]
  },
  {
   "cell_type": "code",
   "execution_count": 8,
   "metadata": {},
   "outputs": [
    {
     "data": {
      "text/plain": [
       "[{'comment': 'There are trying to sell drugs',\n",
       "  'created_at': 'Tue, 28 Mar 2023 19:23:19 GMT',\n",
       "  'firebase_user_id': 'wtf_xxx_7',\n",
       "  'id': 2,\n",
       "  'lat': 100.0,\n",
       "  'long': 100.0,\n",
       "  'main_type': 'Student party',\n",
       "  'n_dislikes': 0,\n",
       "  'n_likes': 0,\n",
       "  'sub_type': 'criminal',\n",
       "  'title': 'there is a mess'},\n",
       " {'comment': 'There are trying to sell drugs',\n",
       "  'created_at': 'Tue, 28 Mar 2023 19:23:43 GMT',\n",
       "  'firebase_user_id': 'wtf_xxx_7',\n",
       "  'id': 3,\n",
       "  'lat': 100.0,\n",
       "  'long': 100.0,\n",
       "  'main_type': 'Student party',\n",
       "  'n_dislikes': 0,\n",
       "  'n_likes': 0,\n",
       "  'sub_type': 'criminal',\n",
       "  'title': 'there is a mess'}]"
      ]
     },
     "execution_count": 8,
     "metadata": {},
     "output_type": "execute_result"
    }
   ],
   "source": [
    "json.loads(requests.get(f'http://{IP_port}/get/all_places').text)"
   ]
  },
  {
   "cell_type": "code",
   "execution_count": 9,
   "metadata": {},
   "outputs": [
    {
     "data": {
      "text/plain": [
       "[{'comment': 'There are trying to sell drugs',\n",
       "  'created_at': 'Tue, 28 Mar 2023 19:23:19 GMT',\n",
       "  'firebase_user_id': 'wtf_xxx_7',\n",
       "  'id': 2,\n",
       "  'lat': 100.0,\n",
       "  'long': 100.0,\n",
       "  'main_type': 'Student party',\n",
       "  'n_dislikes': 0,\n",
       "  'n_likes': 0,\n",
       "  'sub_type': 'criminal',\n",
       "  'title': 'there is a mess'},\n",
       " {'comment': 'There are trying to sell drugs',\n",
       "  'created_at': 'Tue, 28 Mar 2023 19:23:43 GMT',\n",
       "  'firebase_user_id': 'wtf_xxx_7',\n",
       "  'id': 3,\n",
       "  'lat': 100.0,\n",
       "  'long': 100.0,\n",
       "  'main_type': 'Student party',\n",
       "  'n_dislikes': 0,\n",
       "  'n_likes': 0,\n",
       "  'sub_type': 'criminal',\n",
       "  'title': 'there is a mess'}]"
      ]
     },
     "execution_count": 9,
     "metadata": {},
     "output_type": "execute_result"
    }
   ],
   "source": [
    "json.loads(requests.get(f'http://{IP_port}/get/all_places?firebase_user_id=wtf_xxx_7').text)"
   ]
  },
  {
   "cell_type": "code",
   "execution_count": 10,
   "metadata": {},
   "outputs": [
    {
     "data": {
      "text/plain": [
       "[{'comment': 'There are trying to sell drugs',\n",
       "  'created_at': 'Tue, 28 Mar 2023 19:23:19 GMT',\n",
       "  'firebase_user_id': 'wtf_xxx_7',\n",
       "  'id': 2,\n",
       "  'lat': 100.0,\n",
       "  'long': 100.0,\n",
       "  'main_type': 'Student party',\n",
       "  'n_dislikes': 0,\n",
       "  'n_likes': 0,\n",
       "  'sub_type': 'criminal',\n",
       "  'title': 'there is a mess'},\n",
       " {'comment': 'There are trying to sell drugs',\n",
       "  'created_at': 'Tue, 28 Mar 2023 19:23:43 GMT',\n",
       "  'firebase_user_id': 'wtf_xxx_7',\n",
       "  'id': 3,\n",
       "  'lat': 100.0,\n",
       "  'long': 100.0,\n",
       "  'main_type': 'Student party',\n",
       "  'n_dislikes': 0,\n",
       "  'n_likes': 0,\n",
       "  'sub_type': 'criminal',\n",
       "  'title': 'there is a mess'}]"
      ]
     },
     "execution_count": 10,
     "metadata": {},
     "output_type": "execute_result"
    }
   ],
   "source": [
    "json.loads(requests.get(f'http://{IP_port}/get/all_places?sub_type=criminal').text)"
   ]
  },
  {
   "cell_type": "code",
   "execution_count": 11,
   "metadata": {},
   "outputs": [
    {
     "data": {
      "text/plain": [
       "[{'comment': 'There are trying to sell drugs',\n",
       "  'created_at': 'Tue, 28 Mar 2023 19:23:19 GMT',\n",
       "  'firebase_user_id': 'wtf_xxx_7',\n",
       "  'id': 2,\n",
       "  'lat': 100.0,\n",
       "  'long': 100.0,\n",
       "  'main_type': 'Student party',\n",
       "  'n_dislikes': 0,\n",
       "  'n_likes': 0,\n",
       "  'sub_type': 'criminal',\n",
       "  'title': 'there is a mess'},\n",
       " {'comment': 'There are trying to sell drugs',\n",
       "  'created_at': 'Tue, 28 Mar 2023 19:23:43 GMT',\n",
       "  'firebase_user_id': 'wtf_xxx_7',\n",
       "  'id': 3,\n",
       "  'lat': 100.0,\n",
       "  'long': 100.0,\n",
       "  'main_type': 'Student party',\n",
       "  'n_dislikes': 0,\n",
       "  'n_likes': 0,\n",
       "  'sub_type': 'criminal',\n",
       "  'title': 'there is a mess'}]"
      ]
     },
     "execution_count": 11,
     "metadata": {},
     "output_type": "execute_result"
    }
   ],
   "source": [
    "json.loads(requests.get(f'http://{IP_port}/get/all_places?main_type=Student party').text)"
   ]
  },
  {
   "cell_type": "code",
   "execution_count": 12,
   "metadata": {},
   "outputs": [],
   "source": [
    "#f'http://{IP_port}/get/all_places?type=criminal&danger_ranking=red'"
   ]
  },
  {
   "cell_type": "markdown",
   "metadata": {},
   "source": [
    "# Delete a place by id"
   ]
  },
  {
   "cell_type": "code",
   "execution_count": 13,
   "metadata": {},
   "outputs": [
    {
     "data": {
      "text/plain": [
       "{'status': 'success'}"
      ]
     },
     "execution_count": 13,
     "metadata": {},
     "output_type": "execute_result"
    }
   ],
   "source": [
    "response = requests.post(f'http://{IP_port}/delete/place', json={'id':3})\n",
    "json.loads(response.text)"
   ]
  },
  {
   "cell_type": "code",
   "execution_count": 14,
   "metadata": {},
   "outputs": [
    {
     "data": {
      "text/plain": [
       "[{'comment': 'There are trying to sell drugs',\n",
       "  'created_at': 'Tue, 28 Mar 2023 19:23:19 GMT',\n",
       "  'firebase_user_id': 'wtf_xxx_7',\n",
       "  'id': 2,\n",
       "  'lat': 100.0,\n",
       "  'long': 100.0,\n",
       "  'main_type': 'Student party',\n",
       "  'n_dislikes': 0,\n",
       "  'n_likes': 0,\n",
       "  'sub_type': 'criminal',\n",
       "  'title': 'there is a mess'}]"
      ]
     },
     "execution_count": 14,
     "metadata": {},
     "output_type": "execute_result"
    }
   ],
   "source": [
    "json.loads(requests.get(f'http://{IP_port}/get/all_places').text)"
   ]
  },
  {
   "cell_type": "code",
   "execution_count": null,
   "metadata": {},
   "outputs": [],
   "source": []
  }
 ],
 "metadata": {
  "kernelspec": {
   "display_name": "Python 3",
   "language": "python",
   "name": "python3"
  },
  "language_info": {
   "codemirror_mode": {
    "name": "ipython",
    "version": 3
   },
   "file_extension": ".py",
   "mimetype": "text/x-python",
   "name": "python",
   "nbconvert_exporter": "python",
   "pygments_lexer": "ipython3",
   "version": "3.7.7"
  }
 },
 "nbformat": 4,
 "nbformat_minor": 4
}
