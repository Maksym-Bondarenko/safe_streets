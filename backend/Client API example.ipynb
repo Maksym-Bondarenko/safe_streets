{
 "cells": [
  {
   "cell_type": "code",
   "execution_count": 1,
   "metadata": {},
   "outputs": [],
   "source": [
    "import requests\n",
    "import json\n",
    "# IP_port = \"34.89.222.17:8080\"\n",
    "IP_port = \"localhost:8080\""
   ]
  },
  {
   "cell_type": "markdown",
   "metadata": {},
   "source": [
    "# Add a user"
   ]
  },
  {
   "cell_type": "code",
   "execution_count": 2,
   "metadata": {},
   "outputs": [
    {
     "data": {
      "text/plain": [
       "{'status': 'success'}"
      ]
     },
     "execution_count": 2,
     "metadata": {},
     "output_type": "execute_result"
    }
   ],
   "source": [
    "data = {\n",
    "    \"firebase_id\": \"wtf_xxx_7\",\n",
    "    \"full_name\": 'Valera',\n",
    "    \"email\": 'kuku@gmail.com',\n",
    "}\n",
    "\n",
    "\n",
    "response = requests.post(f'http://{IP_port}/add/user', json=data)\n",
    "json.loads(response.text)"
   ]
  },
  {
   "cell_type": "code",
   "execution_count": 3,
   "metadata": {},
   "outputs": [
    {
     "data": {
      "text/plain": [
       "{'firebase_id': 'wtf_xxx_7', 'full_name': 'Valera', 'email': 'kuku@gmail.com'}"
      ]
     },
     "execution_count": 3,
     "metadata": {},
     "output_type": "execute_result"
    }
   ],
   "source": [
    "data"
   ]
  },
  {
   "cell_type": "markdown",
   "metadata": {},
   "source": [
    "# Get all users"
   ]
  },
  {
   "cell_type": "code",
   "execution_count": 4,
   "metadata": {},
   "outputs": [
    {
     "data": {
      "text/plain": [
       "[{'created_at': 'Mon, 27 Mar 2023 20:51:11 GMT',\n",
       "  'email': 'kuku@gmail.com',\n",
       "  'firebase_id': 'wtf_xxx_2',\n",
       "  'full_name': 'Valera',\n",
       "  'id': 2},\n",
       " {'created_at': 'Mon, 27 Mar 2023 21:10:48 GMT',\n",
       "  'email': 'kuku@gmail.com',\n",
       "  'firebase_id': 'wtf_xxx_3',\n",
       "  'full_name': 'Valera',\n",
       "  'id': 4},\n",
       " {'created_at': 'Mon, 27 Mar 2023 21:20:20 GMT',\n",
       "  'email': 'kuku@gmail.com',\n",
       "  'firebase_id': 'wtf_xxx_4',\n",
       "  'full_name': 'Valera',\n",
       "  'id': 6},\n",
       " {'created_at': 'Mon, 27 Mar 2023 21:20:35 GMT',\n",
       "  'email': 'kuku@gmail.com',\n",
       "  'firebase_id': 'wtf_xxx_7',\n",
       "  'full_name': 'Valera',\n",
       "  'id': 7}]"
      ]
     },
     "execution_count": 4,
     "metadata": {},
     "output_type": "execute_result"
    }
   ],
   "source": [
    "json.loads(requests.get(f'http://{IP_port}/get/all_users').text)"
   ]
  },
  {
   "cell_type": "markdown",
   "metadata": {},
   "source": [
    "# Delete a user by id"
   ]
  },
  {
   "cell_type": "code",
   "execution_count": 5,
   "metadata": {},
   "outputs": [
    {
     "data": {
      "text/plain": [
       "{'status': 'success'}"
      ]
     },
     "execution_count": 5,
     "metadata": {},
     "output_type": "execute_result"
    }
   ],
   "source": [
    "response = requests.post(f'http://{IP_port}/delete/user', json={'id':7})\n",
    "json.loads(response.text)"
   ]
  },
  {
   "cell_type": "code",
   "execution_count": 6,
   "metadata": {},
   "outputs": [
    {
     "data": {
      "text/plain": [
       "[{'created_at': 'Mon, 27 Mar 2023 20:51:11 GMT',\n",
       "  'email': 'kuku@gmail.com',\n",
       "  'firebase_id': 'wtf_xxx_2',\n",
       "  'full_name': 'Valera',\n",
       "  'id': 2},\n",
       " {'created_at': 'Mon, 27 Mar 2023 21:10:48 GMT',\n",
       "  'email': 'kuku@gmail.com',\n",
       "  'firebase_id': 'wtf_xxx_3',\n",
       "  'full_name': 'Valera',\n",
       "  'id': 4},\n",
       " {'created_at': 'Mon, 27 Mar 2023 21:20:20 GMT',\n",
       "  'email': 'kuku@gmail.com',\n",
       "  'firebase_id': 'wtf_xxx_4',\n",
       "  'full_name': 'Valera',\n",
       "  'id': 6}]"
      ]
     },
     "execution_count": 6,
     "metadata": {},
     "output_type": "execute_result"
    }
   ],
   "source": [
    "json.loads(requests.get(f'http://{IP_port}/get/all_users').text)"
   ]
  },
  {
   "cell_type": "markdown",
   "metadata": {},
   "source": [
    "# Add a place"
   ]
  },
  {
   "cell_type": "code",
   "execution_count": 7,
   "metadata": {
    "scrolled": true
   },
   "outputs": [
    {
     "data": {
      "text/plain": [
       "{'status': 'success'}"
      ]
     },
     "execution_count": 7,
     "metadata": {},
     "output_type": "execute_result"
    }
   ],
   "source": [
    "data = {\n",
    "    \"firebase_user_id\": \"wtf_xxx_2\",\n",
    "    \"main_type\": 'Student party',\n",
    "    \"sub_type\": 'criminal',\n",
    "    'comment': 'There are trying to sell drugs',\n",
    "    'lat':100.0,\n",
    "    'long':100.0\n",
    "}\n",
    "\n",
    "\n",
    "response = requests.post(f'http://{IP_port}/add/place', json=data)\n",
    "json.loads(response.text)"
   ]
  },
  {
   "cell_type": "markdown",
   "metadata": {},
   "source": [
    "# Get all places"
   ]
  },
  {
   "cell_type": "code",
   "execution_count": 8,
   "metadata": {},
   "outputs": [
    {
     "data": {
      "text/plain": [
       "[{'comment': 'There are trying to sell drugs',\n",
       "  'created_at': 'Mon, 27 Mar 2023 20:55:55 GMT',\n",
       "  'firebase_user_id': 'wtf_xxx_2',\n",
       "  'id': 1,\n",
       "  'lat': '100.000000000000000',\n",
       "  'long': '100.000000000000000',\n",
       "  'main_type': 'Student party',\n",
       "  'n_dislikes': 2,\n",
       "  'n_likes': 2,\n",
       "  'sub_type': 'criminal'},\n",
       " {'comment': 'There are trying to sell drugs',\n",
       "  'created_at': 'Mon, 27 Mar 2023 21:20:36 GMT',\n",
       "  'firebase_user_id': 'wtf_xxx_2',\n",
       "  'id': 4,\n",
       "  'lat': '100.000000000000000',\n",
       "  'long': '100.000000000000000',\n",
       "  'main_type': 'Student party',\n",
       "  'n_dislikes': 0,\n",
       "  'n_likes': 0,\n",
       "  'sub_type': 'criminal'}]"
      ]
     },
     "execution_count": 8,
     "metadata": {},
     "output_type": "execute_result"
    }
   ],
   "source": [
    "json.loads(requests.get(f'http://{IP_port}/get/all_places').text)"
   ]
  },
  {
   "cell_type": "code",
   "execution_count": 9,
   "metadata": {},
   "outputs": [
    {
     "data": {
      "text/plain": [
       "[{'comment': 'There are trying to sell drugs',\n",
       "  'created_at': 'Mon, 27 Mar 2023 20:55:55 GMT',\n",
       "  'firebase_user_id': 'wtf_xxx_2',\n",
       "  'id': 1,\n",
       "  'lat': '100.000000000000000',\n",
       "  'long': '100.000000000000000',\n",
       "  'main_type': 'Student party',\n",
       "  'n_dislikes': 2,\n",
       "  'n_likes': 2,\n",
       "  'sub_type': 'criminal'},\n",
       " {'comment': 'There are trying to sell drugs',\n",
       "  'created_at': 'Mon, 27 Mar 2023 21:20:36 GMT',\n",
       "  'firebase_user_id': 'wtf_xxx_2',\n",
       "  'id': 4,\n",
       "  'lat': '100.000000000000000',\n",
       "  'long': '100.000000000000000',\n",
       "  'main_type': 'Student party',\n",
       "  'n_dislikes': 0,\n",
       "  'n_likes': 0,\n",
       "  'sub_type': 'criminal'}]"
      ]
     },
     "execution_count": 9,
     "metadata": {},
     "output_type": "execute_result"
    }
   ],
   "source": [
    "json.loads(requests.get(f'http://{IP_port}/get/all_places?firebase_user_id=wtf_xxx_2').text)"
   ]
  },
  {
   "cell_type": "code",
   "execution_count": 10,
   "metadata": {},
   "outputs": [
    {
     "data": {
      "text/plain": [
       "[{'comment': 'There are trying to sell drugs',\n",
       "  'created_at': 'Mon, 27 Mar 2023 20:55:55 GMT',\n",
       "  'firebase_user_id': 'wtf_xxx_2',\n",
       "  'id': 1,\n",
       "  'lat': '100.000000000000000',\n",
       "  'long': '100.000000000000000',\n",
       "  'main_type': 'Student party',\n",
       "  'n_dislikes': 2,\n",
       "  'n_likes': 2,\n",
       "  'sub_type': 'criminal'},\n",
       " {'comment': 'There are trying to sell drugs',\n",
       "  'created_at': 'Mon, 27 Mar 2023 21:20:36 GMT',\n",
       "  'firebase_user_id': 'wtf_xxx_2',\n",
       "  'id': 4,\n",
       "  'lat': '100.000000000000000',\n",
       "  'long': '100.000000000000000',\n",
       "  'main_type': 'Student party',\n",
       "  'n_dislikes': 0,\n",
       "  'n_likes': 0,\n",
       "  'sub_type': 'criminal'}]"
      ]
     },
     "execution_count": 10,
     "metadata": {},
     "output_type": "execute_result"
    }
   ],
   "source": [
    "json.loads(requests.get(f'http://{IP_port}/get/all_places?sub_type=criminal').text)"
   ]
  },
  {
   "cell_type": "code",
   "execution_count": 11,
   "metadata": {},
   "outputs": [
    {
     "data": {
      "text/plain": [
       "[{'comment': 'There are trying to sell drugs',\n",
       "  'created_at': 'Mon, 27 Mar 2023 20:55:55 GMT',\n",
       "  'firebase_user_id': 'wtf_xxx_2',\n",
       "  'id': 1,\n",
       "  'lat': '100.000000000000000',\n",
       "  'long': '100.000000000000000',\n",
       "  'main_type': 'Student party',\n",
       "  'n_dislikes': 2,\n",
       "  'n_likes': 2,\n",
       "  'sub_type': 'criminal'},\n",
       " {'comment': 'There are trying to sell drugs',\n",
       "  'created_at': 'Mon, 27 Mar 2023 21:20:36 GMT',\n",
       "  'firebase_user_id': 'wtf_xxx_2',\n",
       "  'id': 4,\n",
       "  'lat': '100.000000000000000',\n",
       "  'long': '100.000000000000000',\n",
       "  'main_type': 'Student party',\n",
       "  'n_dislikes': 0,\n",
       "  'n_likes': 0,\n",
       "  'sub_type': 'criminal'}]"
      ]
     },
     "execution_count": 11,
     "metadata": {},
     "output_type": "execute_result"
    }
   ],
   "source": [
    "json.loads(requests.get(f'http://{IP_port}/get/all_places?main_type=Student party').text)"
   ]
  },
  {
   "cell_type": "code",
   "execution_count": 12,
   "metadata": {},
   "outputs": [
    {
     "data": {
      "text/plain": [
       "'http://localhost:8080/get/all_places?type=criminal&danger_ranking=red'"
      ]
     },
     "execution_count": 12,
     "metadata": {},
     "output_type": "execute_result"
    }
   ],
   "source": [
    "f'http://{IP_port}/get/all_places?type=criminal&danger_ranking=red'"
   ]
  },
  {
   "cell_type": "markdown",
   "metadata": {},
   "source": [
    "# Delete a place by id"
   ]
  },
  {
   "cell_type": "code",
   "execution_count": 13,
   "metadata": {},
   "outputs": [
    {
     "data": {
      "text/plain": [
       "{'status': 'success'}"
      ]
     },
     "execution_count": 13,
     "metadata": {},
     "output_type": "execute_result"
    }
   ],
   "source": [
    "response = requests.post(f'http://{IP_port}/delete/place', json={'id':3})\n",
    "json.loads(response.text)"
   ]
  },
  {
   "cell_type": "code",
   "execution_count": 14,
   "metadata": {},
   "outputs": [
    {
     "data": {
      "text/plain": [
       "[{'comment': 'There are trying to sell drugs',\n",
       "  'created_at': 'Mon, 27 Mar 2023 20:55:55 GMT',\n",
       "  'firebase_user_id': 'wtf_xxx_2',\n",
       "  'id': 1,\n",
       "  'lat': '100.000000000000000',\n",
       "  'long': '100.000000000000000',\n",
       "  'main_type': 'Student party',\n",
       "  'n_dislikes': 2,\n",
       "  'n_likes': 2,\n",
       "  'sub_type': 'criminal'},\n",
       " {'comment': 'There are trying to sell drugs',\n",
       "  'created_at': 'Mon, 27 Mar 2023 21:20:36 GMT',\n",
       "  'firebase_user_id': 'wtf_xxx_2',\n",
       "  'id': 4,\n",
       "  'lat': '100.000000000000000',\n",
       "  'long': '100.000000000000000',\n",
       "  'main_type': 'Student party',\n",
       "  'n_dislikes': 0,\n",
       "  'n_likes': 0,\n",
       "  'sub_type': 'criminal'}]"
      ]
     },
     "execution_count": 14,
     "metadata": {},
     "output_type": "execute_result"
    }
   ],
   "source": [
    "json.loads(requests.get(f'http://{IP_port}/get/all_places').text)"
   ]
  }
 ],
 "metadata": {
  "kernelspec": {
   "display_name": "Python 3",
   "language": "python",
   "name": "python3"
  },
  "language_info": {
   "codemirror_mode": {
    "name": "ipython",
    "version": 3
   },
   "file_extension": ".py",
   "mimetype": "text/x-python",
   "name": "python",
   "nbconvert_exporter": "python",
   "pygments_lexer": "ipython3",
   "version": "3.7.7"
  }
 },
 "nbformat": 4,
 "nbformat_minor": 4
}
