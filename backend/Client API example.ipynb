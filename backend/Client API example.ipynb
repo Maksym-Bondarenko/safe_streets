{
 "cells": [
  {
   "cell_type": "code",
   "execution_count": 6,
   "metadata": {},
   "outputs": [],
   "source": [
    "import requests\n",
    "import json\n",
    "IP_port = \"34.159.7.34:8080\"\n",
    "# IP_port = \"localhost:8080\""
   ]
  },
  {
   "cell_type": "markdown",
   "metadata": {},
   "source": [
    "# Add a user"
   ]
  },
  {
   "cell_type": "code",
   "execution_count": 7,
   "metadata": {},
   "outputs": [
    {
     "data": {
      "text/plain": [
       "{'status': 'success'}"
      ]
     },
     "execution_count": 7,
     "metadata": {},
     "output_type": "execute_result"
    }
   ],
   "source": [
    "data = {\n",
    "    \"firebase_id\": \"wtf_xxx_11\",\n",
    "    \"full_name\": 'Valera',\n",
    "    \"email\": 'kuku@gmail.com',\n",
    "}\n",
    "\n",
    "\n",
    "response = requests.post(f'http://{IP_port}/add/user', json=data)\n",
    "json.loads(response.text)"
   ]
  },
  {
   "cell_type": "code",
   "execution_count": 8,
   "metadata": {},
   "outputs": [
    {
     "data": {
      "text/plain": [
       "{'firebase_id': 'wtf_xxx_11', 'full_name': 'Valera', 'email': 'kuku@gmail.com'}"
      ]
     },
     "execution_count": 8,
     "metadata": {},
     "output_type": "execute_result"
    }
   ],
   "source": [
    "data"
   ]
  },
  {
   "cell_type": "markdown",
   "metadata": {},
   "source": [
    "# Get all users"
   ]
  },
  {
   "cell_type": "code",
   "execution_count": 9,
   "metadata": {},
   "outputs": [
    {
     "data": {
      "text/plain": [
       "[{'created_at': 'Tue, 28 Mar 2023 19:19:59 GMT',\n",
       "  'email': 'kuku@gmail.com',\n",
       "  'firebase_id': 'wtf_xxx_7',\n",
       "  'full_name': 'Valera',\n",
       "  'id': 1},\n",
       " {'created_at': 'Tue, 28 Mar 2023 19:20:07 GMT',\n",
       "  'email': 'kuku@gmail.com',\n",
       "  'firebase_id': 'wtf_xxx_8',\n",
       "  'full_name': 'Valera',\n",
       "  'id': 3},\n",
       " {'created_at': 'Tue, 28 Mar 2023 19:23:42 GMT',\n",
       "  'email': 'kuku@gmail.com',\n",
       "  'firebase_id': 'wtf_xxx_9',\n",
       "  'full_name': 'Valera',\n",
       "  'id': 5},\n",
       " {'created_at': 'Tue, 28 Mar 2023 19:55:20 GMT',\n",
       "  'email': 'kukulol@gmail.com',\n",
       "  'firebase_id': 'qW72BlAKI3a5ygWEZMcHsJjParn1',\n",
       "  'full_name': 'Katia',\n",
       "  'id': 6},\n",
       " {'created_at': 'Wed, 29 Mar 2023 19:19:06 GMT',\n",
       "  'email': 'lol@lol.com',\n",
       "  'firebase_id': 'xYK2Xd6tTUSvZaCUYRW7buz7f1j2',\n",
       "  'full_name': 'null',\n",
       "  'id': 9},\n",
       " {'created_at': 'Wed, 29 Mar 2023 20:11:08 GMT',\n",
       "  'email': 'kuku@gmail.com',\n",
       "  'firebase_id': 'wtf_xxx_10',\n",
       "  'full_name': 'Valera',\n",
       "  'id': 11},\n",
       " {'created_at': 'Wed, 29 Mar 2023 20:11:19 GMT',\n",
       "  'email': 'kuku@gmail.com',\n",
       "  'firebase_id': 'wtf_xxx_11',\n",
       "  'full_name': 'Valera',\n",
       "  'id': 12}]"
      ]
     },
     "execution_count": 9,
     "metadata": {},
     "output_type": "execute_result"
    }
   ],
   "source": [
    "json.loads(requests.get(f'http://{IP_port}/get/all_users').text)"
   ]
  },
  {
   "cell_type": "markdown",
   "metadata": {},
   "source": [
    "# Delete a user by id"
   ]
  },
  {
   "cell_type": "code",
   "execution_count": 10,
   "metadata": {},
   "outputs": [
    {
     "data": {
      "text/plain": [
       "{'status': 'success'}"
      ]
     },
     "execution_count": 10,
     "metadata": {},
     "output_type": "execute_result"
    }
   ],
   "source": [
    "response = requests.post(f'http://{IP_port}/delete/user', json={'id':4})\n",
    "json.loads(response.text)"
   ]
  },
  {
   "cell_type": "code",
   "execution_count": 11,
   "metadata": {},
   "outputs": [
    {
     "data": {
      "text/plain": [
       "[{'created_at': 'Tue, 28 Mar 2023 19:19:59 GMT',\n",
       "  'email': 'kuku@gmail.com',\n",
       "  'firebase_id': 'wtf_xxx_7',\n",
       "  'full_name': 'Valera',\n",
       "  'id': 1},\n",
       " {'created_at': 'Tue, 28 Mar 2023 19:20:07 GMT',\n",
       "  'email': 'kuku@gmail.com',\n",
       "  'firebase_id': 'wtf_xxx_8',\n",
       "  'full_name': 'Valera',\n",
       "  'id': 3},\n",
       " {'created_at': 'Tue, 28 Mar 2023 19:23:42 GMT',\n",
       "  'email': 'kuku@gmail.com',\n",
       "  'firebase_id': 'wtf_xxx_9',\n",
       "  'full_name': 'Valera',\n",
       "  'id': 5},\n",
       " {'created_at': 'Tue, 28 Mar 2023 19:55:20 GMT',\n",
       "  'email': 'kukulol@gmail.com',\n",
       "  'firebase_id': 'qW72BlAKI3a5ygWEZMcHsJjParn1',\n",
       "  'full_name': 'Katia',\n",
       "  'id': 6},\n",
       " {'created_at': 'Wed, 29 Mar 2023 19:19:06 GMT',\n",
       "  'email': 'lol@lol.com',\n",
       "  'firebase_id': 'xYK2Xd6tTUSvZaCUYRW7buz7f1j2',\n",
       "  'full_name': 'null',\n",
       "  'id': 9},\n",
       " {'created_at': 'Wed, 29 Mar 2023 20:11:08 GMT',\n",
       "  'email': 'kuku@gmail.com',\n",
       "  'firebase_id': 'wtf_xxx_10',\n",
       "  'full_name': 'Valera',\n",
       "  'id': 11},\n",
       " {'created_at': 'Wed, 29 Mar 2023 20:11:19 GMT',\n",
       "  'email': 'kuku@gmail.com',\n",
       "  'firebase_id': 'wtf_xxx_11',\n",
       "  'full_name': 'Valera',\n",
       "  'id': 12}]"
      ]
     },
     "execution_count": 11,
     "metadata": {},
     "output_type": "execute_result"
    }
   ],
   "source": [
    "json.loads(requests.get(f'http://{IP_port}/get/all_users').text)"
   ]
  },
  {
   "cell_type": "markdown",
   "metadata": {},
   "source": [
    "# Add a place"
   ]
  },
  {
   "cell_type": "code",
   "execution_count": 12,
   "metadata": {
    "scrolled": true
   },
   "outputs": [
    {
     "data": {
      "text/plain": [
       "{'status': 'success'}"
      ]
     },
     "execution_count": 12,
     "metadata": {},
     "output_type": "execute_result"
    }
   ],
   "source": [
    "data = {\n",
    "    \"firebase_user_id\": \"wtf_xxx_7\",\n",
    "    \"title\": \"there is a mess\",\n",
    "    \"main_type\": 'Student party',\n",
    "    \"sub_type\": 'criminal',\n",
    "    'comment': 'There are trying to sell drugs',\n",
    "    'lat':100.0,\n",
    "    'long':100.0\n",
    "}\n",
    "\n",
    "\n",
    "response = requests.post(f'http://{IP_port}/add/place', json=data)\n",
    "json.loads(response.text)"
   ]
  },
  {
   "cell_type": "markdown",
   "metadata": {},
   "source": [
    "# Get all places"
   ]
  },
  {
   "cell_type": "code",
   "execution_count": 13,
   "metadata": {},
   "outputs": [
    {
     "data": {
      "text/plain": [
       "[{'comment': 'This is Garching',\n",
       "  'created_at': 'Tue, 28 Mar 2023 19:49:20 GMT',\n",
       "  'firebase_user_id': 'wtf_xxx_7',\n",
       "  'id': 4,\n",
       "  'lat': '48.249000000000000',\n",
       "  'long': '11.653000000000000',\n",
       "  'main_type': 'Danger Point',\n",
       "  'n_dislikes': 0,\n",
       "  'n_likes': 0,\n",
       "  'sub_type': 'Dark Street',\n",
       "  'title': 'Garching station'},\n",
       " {'comment': 'lol',\n",
       "  'created_at': 'Tue, 28 Mar 2023 19:55:53 GMT',\n",
       "  'firebase_user_id': 'qW72BlAKI3a5ygWEZMcHsJjParn1',\n",
       "  'id': 6,\n",
       "  'lat': '48.248795272415755',\n",
       "  'long': '11.653708666563034',\n",
       "  'main_type': 'Recommendation Point',\n",
       "  'n_dislikes': 0,\n",
       "  'n_likes': 0,\n",
       "  'sub_type': 'Bad transport connections',\n",
       "  'title': 'MVG is not working'},\n",
       " {'comment': 'Wild animals live here',\n",
       "  'created_at': 'Tue, 28 Mar 2023 20:08:13 GMT',\n",
       "  'firebase_user_id': 'qW72BlAKI3a5ygWEZMcHsJjParn1',\n",
       "  'id': 7,\n",
       "  'lat': '48.248482708181115',\n",
       "  'long': '11.651823744177817',\n",
       "  'main_type': 'Danger Point',\n",
       "  'n_dislikes': 0,\n",
       "  'n_likes': 0,\n",
       "  'sub_type': 'Wild Animals',\n",
       "  'title': 'Park'},\n",
       " {'comment': 'here',\n",
       "  'created_at': 'Tue, 28 Mar 2023 20:36:36 GMT',\n",
       "  'firebase_user_id': 'qW72BlAKI3a5ygWEZMcHsJjParn1',\n",
       "  'id': 8,\n",
       "  'lat': '48.247880793387750',\n",
       "  'long': '11.653340198099613',\n",
       "  'main_type': 'Recommendation Point',\n",
       "  'n_dislikes': 0,\n",
       "  'n_likes': 0,\n",
       "  'sub_type': 'Intrusive people',\n",
       "  'title': 'Selling drugzzz'},\n",
       " {'comment': 'lol',\n",
       "  'created_at': 'Wed, 29 Mar 2023 10:30:26 GMT',\n",
       "  'firebase_user_id': 'qW72BlAKI3a5ygWEZMcHsJjParn1',\n",
       "  'id': 9,\n",
       "  'lat': '48.249330645859230',\n",
       "  'long': '11.654280647635460',\n",
       "  'main_type': 'Danger Point',\n",
       "  'n_dislikes': 0,\n",
       "  'n_likes': 0,\n",
       "  'sub_type': 'Dark Street',\n",
       "  'title': 'Some drunk people'},\n",
       " {'comment': 'l',\n",
       "  'created_at': 'Wed, 29 Mar 2023 19:19:06 GMT',\n",
       "  'firebase_user_id': 'xYK2Xd6tTUSvZaCUYRW7buz7f1j2',\n",
       "  'id': 19,\n",
       "  'lat': '48.141950438413360',\n",
       "  'long': '11.578573286533356',\n",
       "  'main_type': 'Danger Point',\n",
       "  'n_dislikes': 0,\n",
       "  'n_likes': 0,\n",
       "  'sub_type': 'Danger for Children',\n",
       "  'title': 'l'},\n",
       " {'comment': 'There are trying to sell drugs',\n",
       "  'created_at': 'Wed, 29 Mar 2023 20:11:30 GMT',\n",
       "  'firebase_user_id': 'wtf_xxx_7',\n",
       "  'id': 20,\n",
       "  'lat': '100.000000000000000',\n",
       "  'long': '100.000000000000000',\n",
       "  'main_type': 'Student party',\n",
       "  'n_dislikes': 0,\n",
       "  'n_likes': 0,\n",
       "  'sub_type': 'criminal',\n",
       "  'title': 'there is a mess'}]"
      ]
     },
     "execution_count": 13,
     "metadata": {},
     "output_type": "execute_result"
    }
   ],
   "source": [
    "json.loads(requests.get(f'http://{IP_port}/get/all_places').text)"
   ]
  },
  {
   "cell_type": "code",
   "execution_count": 14,
   "metadata": {},
   "outputs": [
    {
     "data": {
      "text/plain": [
       "[{'comment': 'This is Garching',\n",
       "  'created_at': 'Tue, 28 Mar 2023 19:49:20 GMT',\n",
       "  'firebase_user_id': 'wtf_xxx_7',\n",
       "  'id': 4,\n",
       "  'lat': '48.249000000000000',\n",
       "  'long': '11.653000000000000',\n",
       "  'main_type': 'Danger Point',\n",
       "  'n_dislikes': 0,\n",
       "  'n_likes': 0,\n",
       "  'sub_type': 'Dark Street',\n",
       "  'title': 'Garching station'},\n",
       " {'comment': 'There are trying to sell drugs',\n",
       "  'created_at': 'Wed, 29 Mar 2023 20:11:30 GMT',\n",
       "  'firebase_user_id': 'wtf_xxx_7',\n",
       "  'id': 20,\n",
       "  'lat': '100.000000000000000',\n",
       "  'long': '100.000000000000000',\n",
       "  'main_type': 'Student party',\n",
       "  'n_dislikes': 0,\n",
       "  'n_likes': 0,\n",
       "  'sub_type': 'criminal',\n",
       "  'title': 'there is a mess'}]"
      ]
     },
     "execution_count": 14,
     "metadata": {},
     "output_type": "execute_result"
    }
   ],
   "source": [
    "json.loads(requests.get(f'http://{IP_port}/get/all_places?firebase_user_id=wtf_xxx_7').text)"
   ]
  },
  {
   "cell_type": "code",
   "execution_count": 15,
   "metadata": {},
   "outputs": [
    {
     "data": {
      "text/plain": [
       "[{'comment': 'There are trying to sell drugs',\n",
       "  'created_at': 'Wed, 29 Mar 2023 20:11:30 GMT',\n",
       "  'firebase_user_id': 'wtf_xxx_7',\n",
       "  'id': 20,\n",
       "  'lat': '100.000000000000000',\n",
       "  'long': '100.000000000000000',\n",
       "  'main_type': 'Student party',\n",
       "  'n_dislikes': 0,\n",
       "  'n_likes': 0,\n",
       "  'sub_type': 'criminal',\n",
       "  'title': 'there is a mess'}]"
      ]
     },
     "execution_count": 15,
     "metadata": {},
     "output_type": "execute_result"
    }
   ],
   "source": [
    "json.loads(requests.get(f'http://{IP_port}/get/all_places?sub_type=criminal').text)"
   ]
  },
  {
   "cell_type": "code",
   "execution_count": 16,
   "metadata": {},
   "outputs": [
    {
     "data": {
      "text/plain": [
       "[{'comment': 'There are trying to sell drugs',\n",
       "  'created_at': 'Wed, 29 Mar 2023 20:11:30 GMT',\n",
       "  'firebase_user_id': 'wtf_xxx_7',\n",
       "  'id': 20,\n",
       "  'lat': '100.000000000000000',\n",
       "  'long': '100.000000000000000',\n",
       "  'main_type': 'Student party',\n",
       "  'n_dislikes': 0,\n",
       "  'n_likes': 0,\n",
       "  'sub_type': 'criminal',\n",
       "  'title': 'there is a mess'}]"
      ]
     },
     "execution_count": 16,
     "metadata": {},
     "output_type": "execute_result"
    }
   ],
   "source": [
    "json.loads(requests.get(f'http://{IP_port}/get/all_places?main_type=Student party').text)"
   ]
  },
  {
   "cell_type": "code",
   "execution_count": 17,
   "metadata": {},
   "outputs": [],
   "source": [
    "#f'http://{IP_port}/get/all_places?type=criminal&danger_ranking=red'"
   ]
  },
  {
   "cell_type": "markdown",
   "metadata": {},
   "source": [
    "# Delete a place by id"
   ]
  },
  {
   "cell_type": "code",
   "execution_count": 18,
   "metadata": {},
   "outputs": [
    {
     "data": {
      "text/plain": [
       "{'status': 'success'}"
      ]
     },
     "execution_count": 18,
     "metadata": {},
     "output_type": "execute_result"
    }
   ],
   "source": [
    "response = requests.post(f'http://{IP_port}/delete/place', json={'id':3})\n",
    "json.loads(response.text)"
   ]
  },
  {
   "cell_type": "code",
   "execution_count": 19,
   "metadata": {},
   "outputs": [
    {
     "data": {
      "text/plain": [
       "[{'comment': 'This is Garching',\n",
       "  'created_at': 'Tue, 28 Mar 2023 19:49:20 GMT',\n",
       "  'firebase_user_id': 'wtf_xxx_7',\n",
       "  'id': 4,\n",
       "  'lat': '48.249000000000000',\n",
       "  'long': '11.653000000000000',\n",
       "  'main_type': 'Danger Point',\n",
       "  'n_dislikes': 0,\n",
       "  'n_likes': 0,\n",
       "  'sub_type': 'Dark Street',\n",
       "  'title': 'Garching station'},\n",
       " {'comment': 'lol',\n",
       "  'created_at': 'Tue, 28 Mar 2023 19:55:53 GMT',\n",
       "  'firebase_user_id': 'qW72BlAKI3a5ygWEZMcHsJjParn1',\n",
       "  'id': 6,\n",
       "  'lat': '48.248795272415755',\n",
       "  'long': '11.653708666563034',\n",
       "  'main_type': 'Recommendation Point',\n",
       "  'n_dislikes': 0,\n",
       "  'n_likes': 0,\n",
       "  'sub_type': 'Bad transport connections',\n",
       "  'title': 'MVG is not working'},\n",
       " {'comment': 'Wild animals live here',\n",
       "  'created_at': 'Tue, 28 Mar 2023 20:08:13 GMT',\n",
       "  'firebase_user_id': 'qW72BlAKI3a5ygWEZMcHsJjParn1',\n",
       "  'id': 7,\n",
       "  'lat': '48.248482708181115',\n",
       "  'long': '11.651823744177817',\n",
       "  'main_type': 'Danger Point',\n",
       "  'n_dislikes': 0,\n",
       "  'n_likes': 0,\n",
       "  'sub_type': 'Wild Animals',\n",
       "  'title': 'Park'},\n",
       " {'comment': 'here',\n",
       "  'created_at': 'Tue, 28 Mar 2023 20:36:36 GMT',\n",
       "  'firebase_user_id': 'qW72BlAKI3a5ygWEZMcHsJjParn1',\n",
       "  'id': 8,\n",
       "  'lat': '48.247880793387750',\n",
       "  'long': '11.653340198099613',\n",
       "  'main_type': 'Recommendation Point',\n",
       "  'n_dislikes': 0,\n",
       "  'n_likes': 0,\n",
       "  'sub_type': 'Intrusive people',\n",
       "  'title': 'Selling drugzzz'},\n",
       " {'comment': 'lol',\n",
       "  'created_at': 'Wed, 29 Mar 2023 10:30:26 GMT',\n",
       "  'firebase_user_id': 'qW72BlAKI3a5ygWEZMcHsJjParn1',\n",
       "  'id': 9,\n",
       "  'lat': '48.249330645859230',\n",
       "  'long': '11.654280647635460',\n",
       "  'main_type': 'Danger Point',\n",
       "  'n_dislikes': 0,\n",
       "  'n_likes': 0,\n",
       "  'sub_type': 'Dark Street',\n",
       "  'title': 'Some drunk people'},\n",
       " {'comment': 'l',\n",
       "  'created_at': 'Wed, 29 Mar 2023 19:19:06 GMT',\n",
       "  'firebase_user_id': 'xYK2Xd6tTUSvZaCUYRW7buz7f1j2',\n",
       "  'id': 19,\n",
       "  'lat': '48.141950438413360',\n",
       "  'long': '11.578573286533356',\n",
       "  'main_type': 'Danger Point',\n",
       "  'n_dislikes': 0,\n",
       "  'n_likes': 0,\n",
       "  'sub_type': 'Danger for Children',\n",
       "  'title': 'l'},\n",
       " {'comment': 'There are trying to sell drugs',\n",
       "  'created_at': 'Wed, 29 Mar 2023 20:11:30 GMT',\n",
       "  'firebase_user_id': 'wtf_xxx_7',\n",
       "  'id': 20,\n",
       "  'lat': '100.000000000000000',\n",
       "  'long': '100.000000000000000',\n",
       "  'main_type': 'Student party',\n",
       "  'n_dislikes': 0,\n",
       "  'n_likes': 0,\n",
       "  'sub_type': 'criminal',\n",
       "  'title': 'there is a mess'}]"
      ]
     },
     "execution_count": 19,
     "metadata": {},
     "output_type": "execute_result"
    }
   ],
   "source": [
    "json.loads(requests.get(f'http://{IP_port}/get/all_places').text)"
   ]
  },
  {
   "cell_type": "markdown",
   "metadata": {},
   "source": [
    "### Get user by firebase id"
   ]
  },
  {
   "cell_type": "code",
   "execution_count": 20,
   "metadata": {},
   "outputs": [
    {
     "data": {
      "text/plain": [
       "{'message': 'provide firebase_id', 'status': 'not found'}"
      ]
     },
     "execution_count": 20,
     "metadata": {},
     "output_type": "execute_result"
    }
   ],
   "source": [
    "json.loads(requests.get(f'http://{IP_port}/get/users').text)"
   ]
  },
  {
   "cell_type": "code",
   "execution_count": 21,
   "metadata": {},
   "outputs": [
    {
     "data": {
      "text/plain": [
       "[{'created_at': 'Tue, 28 Mar 2023 19:55:20 GMT',\n",
       "  'email': 'kukulol@gmail.com',\n",
       "  'firebase_id': 'qW72BlAKI3a5ygWEZMcHsJjParn1',\n",
       "  'full_name': 'Katia',\n",
       "  'id': 6}]"
      ]
     },
     "execution_count": 21,
     "metadata": {},
     "output_type": "execute_result"
    }
   ],
   "source": [
    "json.loads(requests.get(f'http://{IP_port}/get/users?firebase_id=qW72BlAKI3a5ygWEZMcHsJjParn1').text)"
   ]
  },
  {
   "cell_type": "code",
   "execution_count": 22,
   "metadata": {},
   "outputs": [
    {
     "data": {
      "text/plain": [
       "'http://34.159.7.34:8080/get/users?firebase_id=qW72BlAKI3a5ygWEZMcHsJjParn1'"
      ]
     },
     "execution_count": 22,
     "metadata": {},
     "output_type": "execute_result"
    }
   ],
   "source": [
    "f'http://{IP_port}/get/users?firebase_id=qW72BlAKI3a5ygWEZMcHsJjParn1'"
   ]
  },
  {
   "cell_type": "code",
   "execution_count": null,
   "metadata": {},
   "outputs": [],
   "source": []
  }
 ],
 "metadata": {
  "kernelspec": {
   "display_name": "Python 3",
   "language": "python",
   "name": "python3"
  },
  "language_info": {
   "codemirror_mode": {
    "name": "ipython",
    "version": 3
   },
   "file_extension": ".py",
   "mimetype": "text/x-python",
   "name": "python",
   "nbconvert_exporter": "python",
   "pygments_lexer": "ipython3",
   "version": "3.7.7"
  }
 },
 "nbformat": 4,
 "nbformat_minor": 4
}
